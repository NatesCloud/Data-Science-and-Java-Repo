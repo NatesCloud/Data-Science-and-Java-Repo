{
 "cells": [
  {
   "cell_type": "code",
   "execution_count": null,
   "metadata": {},
   "outputs": [],
   "source": [
    "if(FALSE) {\n",
    "   \"This is a demo for multi-line comments and it should be put inside either a single\n",
    "      of double quote\"\n",
    "}\n",
    "\n",
    "myString <- \"Hello, World!\"\n",
    "print (myString)"
   ]
  },
  {
   "cell_type": "code",
   "execution_count": null,
   "metadata": {},
   "outputs": [],
   "source": []
  }
 ],
 "metadata": {
  "kernelspec": {
   "display_name": "R",
   "language": "R",
   "name": "ir"
  }
 },
 "nbformat": 4,
 "nbformat_minor": 4
}
