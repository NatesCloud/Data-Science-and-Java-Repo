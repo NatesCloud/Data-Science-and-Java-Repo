{
 "cells": [
  {
   "cell_type": "markdown",
   "metadata": {},
   "source": [
    "You are given two classes, Person and Student, where Person is the base class and Student is the derived class. Completed code for Person and a declaration for Student are provided for you in the editor. Observe that Student inherits all the properties of Person.\n",
    "\n",
    "Complete the Student class by writing the following:\n",
    "A Student class constructor, which has 4 parameters:\n",
    "- A string, firstName\n",
    "- A string, lastName\n",
    "- An integer, id\n",
    "- An integer array (or vector) of test scores, scores\n",
    "\n",
    "A char calculate() method that calculates a Student object's average and returns the grade character representative of their calculated average:\n",
    "\n",
    "A | 90-100\n",
    "\n",
    "B | 80-89\n",
    "\n",
    "C | 70-79\n",
    "\n",
    "D | 60-69\n",
    "\n",
    "F | <60"
   ]
  },
  {
   "cell_type": "code",
   "execution_count": 29,
   "metadata": {},
   "outputs": [
    {
     "name": "stdout",
     "output_type": "stream",
     "text": [
      "Enter your grades (space separated): 10 20 30\n",
      "Your grade is: F\n"
     ]
    }
   ],
   "source": [
    "import statistics\n",
    "\n",
    "class Person(object):\n",
    "    def __init(self, fname, lname):\n",
    "        self.fname = fname\n",
    "        self.lname = lname\n",
    "\n",
    "class Student(Person):\n",
    "    def __init__(self, fname, lname, id):\n",
    "        super().__init__()\n",
    "        self.id = id\n",
    "        \n",
    "    def calculate(self):\n",
    "        # inputted within function for the sake of clarity for the assignment\n",
    "        line = list(map(int, input(\"Enter your grades (space separated): \").split()))\n",
    "        avg = statistics.mean(line)\n",
    "        if avg >= 90:\n",
    "            return 'A'\n",
    "        elif avg >= 80:\n",
    "            return 'B'\n",
    "        elif avg >= 70:\n",
    "            return 'C'\n",
    "        elif avg >= 60:\n",
    "            return 'D'\n",
    "        else:\n",
    "            return 'F'\n",
    "        \n",
    "# assuming the Student record is created, the user will input their grades        \n",
    "s = Student('Nate', 'Sutherland', 7)\n",
    "\n",
    "print(\"Your grade is: \" + s.calculate())\n",
    "            \n",
    " "
   ]
  },
  {
   "cell_type": "code",
   "execution_count": null,
   "metadata": {},
   "outputs": [],
   "source": []
  }
 ],
 "metadata": {
  "kernelspec": {
   "display_name": "Python 3",
   "language": "python",
   "name": "python3"
  },
  "language_info": {
   "codemirror_mode": {
    "name": "ipython",
    "version": 3
   },
   "file_extension": ".py",
   "mimetype": "text/x-python",
   "name": "python",
   "nbconvert_exporter": "python",
   "pygments_lexer": "ipython3",
   "version": "3.8.3"
  }
 },
 "nbformat": 4,
 "nbformat_minor": 4
}
