{
 "cells": [
  {
   "cell_type": "markdown",
   "metadata": {},
   "source": [
    "**Exercise 1**"
   ]
  },
  {
   "cell_type": "code",
   "execution_count": 70,
   "metadata": {},
   "outputs": [
    {
     "name": "stdout",
     "output_type": "stream",
     "text": [
      "Enter a number (1-9):3\n",
      "Your number is: 3 ( 2 guesses)\n"
     ]
    }
   ],
   "source": [
    "number = int(input(\"Enter a number (1-9):\"))\n",
    "numGuess = 0\n",
    "\n",
    "if number < 1 or number > 9:\n",
    "    number = int(input(\"Invalid number. Enter a number between 1 and 9:\"))\n",
    "    \n",
    "def guessNum(lower, upper, number):\n",
    "    global numGuess \n",
    "    numGuess += 1\n",
    "    \n",
    "    middle = int(((upper - lower) / 2) + lower)\n",
    "    if number == middle:\n",
    "        return middle\n",
    "    elif number > middle:\n",
    "        return guessNum(middle, upper, number)\n",
    "\n",
    "    return guessNum(lower, middle, number)    \n",
    "   \n",
    "print(\"Your number is:\", guessNum(1, 9, number), \"(\",numGuess, \"guesses)\")"
   ]
  },
  {
   "cell_type": "markdown",
   "metadata": {},
   "source": [
    "**Exercise 2**"
   ]
  },
  {
   "cell_type": "code",
   "execution_count": 80,
   "metadata": {},
   "outputs": [
    {
     "name": "stdout",
     "output_type": "stream",
     "text": [
      "Enter a password:ljsflkdjskfQ@\n",
      "Invalid password\n"
     ]
    }
   ],
   "source": [
    "password = input(\"Enter a password:\")\n",
    "\n",
    "def passReqs(password):\n",
    "    lowCaseReq = False\n",
    "    hiCaseReq = False\n",
    "    numReq = False\n",
    "    charReq = False\n",
    "    lengthReq = (len(password) <= 16 and len(password) >= 6)\n",
    "    \n",
    "    for char in password:\n",
    "        if char.islower():\n",
    "            lowCaseReq = True\n",
    "        elif char.isupper():\n",
    "            hiCaseReq = True\n",
    "        elif char.isdigit():\n",
    "            numReq = True\n",
    "        elif char == '@' or char == '#' or char == '$':\n",
    "            charReq = True\n",
    "            \n",
    "    return hiCaseReq and lowCaseReq and numReq and charReq and lengthReq\n",
    "\n",
    "if not passReqs(password):\n",
    "    print(\"Invalid password\")\n",
    "else:\n",
    "    print(\"Valid password\")\n",
    "    "
   ]
  },
  {
   "cell_type": "markdown",
   "metadata": {},
   "source": [
    "**Exercise 3**"
   ]
  },
  {
   "cell_type": "code",
   "execution_count": 87,
   "metadata": {},
   "outputs": [
    {
     "name": "stdout",
     "output_type": "stream",
     "text": [
      "Enter your name:mike\n",
      "Enter an age:20\n",
      "Enter your name:nate\n",
      "Enter an age:30\n",
      "Enter your name:john\n",
      "Enter an age:10\n",
      "Oldest: nate,  30 years\n",
      "Youngest: john,  10 years\n"
     ]
    }
   ],
   "source": [
    "user1 = input(\"Enter your name:\")\n",
    "age1 = int(input(\"Enter an age:\"))\n",
    "\n",
    "user2 = input(\"Enter your name:\")\n",
    "age2 = int(input(\"Enter an age:\"))\n",
    "\n",
    "user3 = input(\"Enter your name:\")\n",
    "age3 = int(input(\"Enter an age:\"))\n",
    "\n",
    "userDict = {\n",
    "    user1: age1,\n",
    "    user2: age2,\n",
    "    user3: age3,\n",
    "}\n",
    "\n",
    "for u, v in userDict.items():\n",
    "    if v >= max(userDict.values()):\n",
    "        print(\"Oldest:\", u + \", \", v, \"years\")\n",
    "    elif v <= min(userDict.values()):\n",
    "        print(\"Youngest:\", u + \", \", v, \"years\")\n",
    "\n"
   ]
  },
  {
   "cell_type": "markdown",
   "metadata": {},
   "source": [
    "**Exercise 4**"
   ]
  },
  {
   "cell_type": "code",
   "execution_count": 90,
   "metadata": {},
   "outputs": [
    {
     "name": "stdout",
     "output_type": "stream",
     "text": [
      "Enter total # of classes held:100\n",
      "Enter total # of classes attended:75\n",
      "75.0 % attendance rate\n",
      "Can sit for exam\n"
     ]
    }
   ],
   "source": [
    "numClasses = int(input(\"Enter total # of classes held:\"))\n",
    "numAttended = int(input(\"Enter total # of classes attended:\"))\n",
    "\n",
    "percentAttended = float(numAttended/numClasses * 100)\n",
    "\n",
    "print(percentAttended, \"% attendance rate\")\n",
    "if percentAttended < 75:\n",
    "    print(\"Can NOT sit for exam\")\n",
    "else:\n",
    "    print(\"Can sit for exam\")"
   ]
  },
  {
   "cell_type": "markdown",
   "metadata": {},
   "source": [
    "**Exercise 5**"
   ]
  },
  {
   "cell_type": "code",
   "execution_count": 95,
   "metadata": {},
   "outputs": [
    {
     "name": "stdout",
     "output_type": "stream",
     "text": [
      "Enter a number:22\n",
      "Not Weird\n"
     ]
    }
   ],
   "source": [
    "n = int(input(\"Enter a number:\"))\n",
    "\n",
    "if n % 2 == 1:\n",
    "    print(\"weird\")\n",
    "elif n >= 2 and n <= 5:\n",
    "    print(\"Not Weird\")\n",
    "elif n >= 6 and n <= 20:\n",
    "    print(\"Weird\")\n",
    "elif n > 20:\n",
    "    print(\"Not Weird\")"
   ]
  },
  {
   "cell_type": "code",
   "execution_count": null,
   "metadata": {},
   "outputs": [],
   "source": []
  },
  {
   "cell_type": "code",
   "execution_count": null,
   "metadata": {},
   "outputs": [],
   "source": []
  }
 ],
 "metadata": {
  "kernelspec": {
   "display_name": "Python 3",
   "language": "python",
   "name": "python3"
  },
  "language_info": {
   "codemirror_mode": {
    "name": "ipython",
    "version": 3
   },
   "file_extension": ".py",
   "mimetype": "text/x-python",
   "name": "python",
   "nbconvert_exporter": "python",
   "pygments_lexer": "ipython3",
   "version": "3.8.3"
  }
 },
 "nbformat": 4,
 "nbformat_minor": 4
}
