{
 "cells": [
  {
   "cell_type": "markdown",
   "metadata": {},
   "source": [
    "# Day 2 Exercise "
   ]
  },
  {
   "cell_type": "markdown",
   "metadata": {},
   "source": [
    "**Exercise 1**"
   ]
  },
  {
   "cell_type": "code",
   "execution_count": 40,
   "metadata": {},
   "outputs": [
    {
     "name": "stdout",
     "output_type": "stream",
     "text": [
      "(2.0, 1.0)\n",
      "(-1.0, -1.0)\n"
     ]
    }
   ],
   "source": [
    "import math\n",
    "\n",
    "def solve_quadratic(a, b, c):\n",
    "    add_sol = (-b + math.sqrt(b ** 2 - (4 * a * c))) / (2 * a)\n",
    "    sub_sol = (-b - math.sqrt(b ** 2 - (4 * a * c))) / (2 * a)\n",
    "    \n",
    "    sol = (add_sol, sub_sol)\n",
    "    return sol\n",
    "\n",
    "print(solve_quadratic(1,-3,2))\n",
    "print(solve_quadratic(1,2,1))\n"
   ]
  },
  {
   "cell_type": "markdown",
   "metadata": {},
   "source": [
    "**Exercise 2**"
   ]
  },
  {
   "cell_type": "code",
   "execution_count": 2,
   "metadata": {},
   "outputs": [
    {
     "name": "stdout",
     "output_type": "stream",
     "text": [
      "Please enter space-separated integers:1 2 3 4 5\n",
      "-5659871693760987716\n"
     ]
    }
   ],
   "source": [
    "numbersList = map(int,input(\"Please enter space-separated integers:\").split())\n",
    "\n",
    "numbersTuple = tuple(numbersList)\n",
    "\n",
    "print(hash(numbersTuple))"
   ]
  },
  {
   "cell_type": "markdown",
   "metadata": {},
   "source": [
    "**Exercise 3**"
   ]
  },
  {
   "cell_type": "code",
   "execution_count": 3,
   "metadata": {},
   "outputs": [
    {
     "name": "stdout",
     "output_type": "stream",
     "text": [
      "[6, 12, 18, 4, 12, 20, 28]\n"
     ]
    }
   ],
   "source": [
    "#          0  1  2  3   4   5   6\n",
    "listOne = [3, 6, 9, 12, 15, 18, 21]\n",
    "listTwo = [4, 8, 12, 16, 20, 24, 28]\n",
    "\n",
    "listThree = listOne[1::2]\n",
    "\n",
    "listThree += listTwo[::2]\n",
    "\n",
    "print(listThree)"
   ]
  },
  {
   "cell_type": "markdown",
   "metadata": {},
   "source": [
    "**Exercise 4**"
   ]
  },
  {
   "cell_type": "code",
   "execution_count": 26,
   "metadata": {},
   "outputs": [
    {
     "name": "stdout",
     "output_type": "stream",
     "text": [
      "[89, 45, 78] \n",
      " [12, 14, 23] \n",
      " [8, 45, 11]\n"
     ]
    }
   ],
   "source": [
    "sampleList = [11, 45, 8, 23, 14, 12, 78, 45, 89]\n",
    "\n",
    "block1 = sampleList[:-4:-1]\n",
    "block2 = sampleList[-4:-7:-1]\n",
    "block3 = sampleList[-7:-10:-1]\n",
    "print(block1, '\\n' ,block2, '\\n', block3)"
   ]
  },
  {
   "cell_type": "markdown",
   "metadata": {},
   "source": [
    "**Exercise 5**"
   ]
  },
  {
   "cell_type": "code",
   "execution_count": 39,
   "metadata": {},
   "outputs": [
    {
     "name": "stdout",
     "output_type": "stream",
     "text": [
      "[47, 69, 76, 97]\n"
     ]
    }
   ],
   "source": [
    "rollNumber = [47, 64, 69, 37, 76, 83, 95, 97]\n",
    "sampleDict = {'Zach':47, 'Emma':69, 'Kelly':76, 'Jason':97}\n",
    "\n",
    "newRollNumber = list(sampleDict.values())\n",
    "print(newRollNumber)\n",
    "\n",
    "#for some reason, the below skips 95 and does not remove it\n",
    "\n",
    "#for value in rollNumber:\n",
    "#    if value not in sampleDict.values():\n",
    "#        rollNumber.remove(value)      \n",
    "#print('\\n', rollNumber)"
   ]
  },
  {
   "cell_type": "code",
   "execution_count": null,
   "metadata": {},
   "outputs": [],
   "source": []
  }
 ],
 "metadata": {
  "kernelspec": {
   "display_name": "Python 3",
   "language": "python",
   "name": "python3"
  },
  "language_info": {
   "codemirror_mode": {
    "name": "ipython",
    "version": 3
   },
   "file_extension": ".py",
   "mimetype": "text/x-python",
   "name": "python",
   "nbconvert_exporter": "python",
   "pygments_lexer": "ipython3",
   "version": "3.8.3"
  }
 },
 "nbformat": 4,
 "nbformat_minor": 4
}
